{
  "nbformat": 4,
  "nbformat_minor": 0,
  "metadata": {
    "colab": {
      "name": "SDS_notebook_1.ipynb",
      "version": "0.3.2",
      "provenance": [],
      "include_colab_link": true
    },
    "kernelspec": {
      "name": "python3",
      "display_name": "Python 3"
    }
  },
  "cells": [
    {
      "cell_type": "markdown",
      "metadata": {
        "id": "view-in-github",
        "colab_type": "text"
      },
      "source": [
        "<a href=\"https://colab.research.google.com/github/israelrico007/data-science-python/blob/master/SDS_notebook_1.ipynb\" target=\"_parent\"><img src=\"https://colab.research.google.com/assets/colab-badge.svg\" alt=\"Open In Colab\"/></a>"
      ]
    },
    {
      "metadata": {
        "id": "Rnz4Q6THMxVB",
        "colab_type": "text"
      },
      "cell_type": "markdown",
      "source": [
        "#Mis Primeros pasos en python"
      ]
    },
    {
      "metadata": {
        "id": "kkE4szEYQpH8",
        "colab_type": "text"
      },
      "cell_type": "markdown",
      "source": [
        "##Imports\n"
      ]
    },
    {
      "metadata": {
        "id": "8vfWLDiIN2u2",
        "colab_type": "code",
        "outputId": "314bd079-d5e6-4d14-abe3-130485189d21",
        "colab": {
          "base_uri": "https://localhost:8080/",
          "height": 35
        }
      },
      "cell_type": "code",
      "source": [
        "import math\n",
        "\n",
        "print (math.pi)\n"
      ],
      "execution_count": 0,
      "outputs": [
        {
          "output_type": "stream",
          "text": [
            "3.141592653589793\n"
          ],
          "name": "stdout"
        }
      ]
    },
    {
      "metadata": {
        "id": "i9dnadkWPSqK",
        "colab_type": "code",
        "outputId": "8c15c75d-0b5e-4d37-8cfd-8eed30fc4314",
        "colab": {
          "base_uri": "https://localhost:8080/",
          "height": 35
        }
      },
      "cell_type": "code",
      "source": [
        "math.cos(math.pi/2)\n"
      ],
      "execution_count": 0,
      "outputs": [
        {
          "output_type": "execute_result",
          "data": {
            "text/plain": [
              "6.123233995736766e-17"
            ]
          },
          "metadata": {
            "tags": []
          },
          "execution_count": 3
        }
      ]
    },
    {
      "metadata": {
        "id": "x6HZy_lLPgQW",
        "colab_type": "code",
        "outputId": "2643e86e-1249-4618-de49-788073481146",
        "colab": {
          "base_uri": "https://localhost:8080/",
          "height": 35
        }
      },
      "cell_type": "code",
      "source": [
        "math.log(2)"
      ],
      "execution_count": 0,
      "outputs": [
        {
          "output_type": "execute_result",
          "data": {
            "text/plain": [
              "0.6931471805599453"
            ]
          },
          "metadata": {
            "tags": []
          },
          "execution_count": 4
        }
      ]
    },
    {
      "metadata": {
        "id": "DyO4d31GQMWO",
        "colab_type": "code",
        "outputId": "9867b9bd-89e3-456e-9d5f-366d07dac84e",
        "colab": {
          "base_uri": "https://localhost:8080/",
          "height": 989
        }
      },
      "cell_type": "code",
      "source": [
        "dir(math)"
      ],
      "execution_count": 0,
      "outputs": [
        {
          "output_type": "execute_result",
          "data": {
            "text/plain": [
              "['__doc__',\n",
              " '__loader__',\n",
              " '__name__',\n",
              " '__package__',\n",
              " '__spec__',\n",
              " 'acos',\n",
              " 'acosh',\n",
              " 'asin',\n",
              " 'asinh',\n",
              " 'atan',\n",
              " 'atan2',\n",
              " 'atanh',\n",
              " 'ceil',\n",
              " 'copysign',\n",
              " 'cos',\n",
              " 'cosh',\n",
              " 'degrees',\n",
              " 'e',\n",
              " 'erf',\n",
              " 'erfc',\n",
              " 'exp',\n",
              " 'expm1',\n",
              " 'fabs',\n",
              " 'factorial',\n",
              " 'floor',\n",
              " 'fmod',\n",
              " 'frexp',\n",
              " 'fsum',\n",
              " 'gamma',\n",
              " 'gcd',\n",
              " 'hypot',\n",
              " 'inf',\n",
              " 'isclose',\n",
              " 'isfinite',\n",
              " 'isinf',\n",
              " 'isnan',\n",
              " 'ldexp',\n",
              " 'lgamma',\n",
              " 'log',\n",
              " 'log10',\n",
              " 'log1p',\n",
              " 'log2',\n",
              " 'modf',\n",
              " 'nan',\n",
              " 'pi',\n",
              " 'pow',\n",
              " 'radians',\n",
              " 'sin',\n",
              " 'sinh',\n",
              " 'sqrt',\n",
              " 'tan',\n",
              " 'tanh',\n",
              " 'tau',\n",
              " 'trunc']"
            ]
          },
          "metadata": {
            "tags": []
          },
          "execution_count": 5
        }
      ]
    },
    {
      "metadata": {
        "id": "3-Na5a_FQzEd",
        "colab_type": "text"
      },
      "cell_type": "markdown",
      "source": [
        "##Varibles"
      ]
    },
    {
      "metadata": {
        "id": "pa6ut_-5Q5E4",
        "colab_type": "code",
        "outputId": "0ead99f6-403e-4779-8f8b-4d519625eea3",
        "colab": {
          "base_uri": "https://localhost:8080/",
          "height": 53
        }
      },
      "cell_type": "code",
      "source": [
        "#strings\n",
        "texto = 'Israel'\n",
        "print (texto)\n",
        "type(texto)"
      ],
      "execution_count": 0,
      "outputs": [
        {
          "output_type": "stream",
          "text": [
            "Israel\n"
          ],
          "name": "stdout"
        },
        {
          "output_type": "execute_result",
          "data": {
            "text/plain": [
              "str"
            ]
          },
          "metadata": {
            "tags": []
          },
          "execution_count": 7
        }
      ]
    },
    {
      "metadata": {
        "id": "5kro-4bGRUrQ",
        "colab_type": "code",
        "outputId": "40cd216b-c46b-4ef7-aa85-7ee4ff3773e3",
        "colab": {
          "base_uri": "https://localhost:8080/",
          "height": 35
        }
      },
      "cell_type": "code",
      "source": [
        "# conversión de variables\n",
        "\n",
        "numero = 10.5\n",
        "int(numero)"
      ],
      "execution_count": 0,
      "outputs": [
        {
          "output_type": "execute_result",
          "data": {
            "text/plain": [
              "10"
            ]
          },
          "metadata": {
            "tags": []
          },
          "execution_count": 8
        }
      ]
    },
    {
      "metadata": {
        "id": "e-OfsgBPRnAg",
        "colab_type": "text"
      },
      "cell_type": "markdown",
      "source": [
        "##Estructura de Datos"
      ]
    },
    {
      "metadata": {
        "id": "2qFbmDm-f5QC",
        "colab_type": "text"
      },
      "cell_type": "markdown",
      "source": [
        "###Strings: cadenas de caracteres"
      ]
    },
    {
      "metadata": {
        "id": "dwSJSFLAgB2U",
        "colab_type": "code",
        "outputId": "3b69a205-3ca5-4be9-b9a6-c8c58ce2e107",
        "colab": {
          "base_uri": "https://localhost:8080/",
          "height": 35
        }
      },
      "cell_type": "code",
      "source": [
        "s = 'Israel Rico'\n",
        "s"
      ],
      "execution_count": 0,
      "outputs": [
        {
          "output_type": "execute_result",
          "data": {
            "text/plain": [
              "'Israel Rico'"
            ]
          },
          "metadata": {
            "tags": []
          },
          "execution_count": 9
        }
      ]
    },
    {
      "metadata": {
        "id": "G77g5R-Agn5F",
        "colab_type": "code",
        "outputId": "83b744dc-8bce-42af-dde8-04fcdf3b80d9",
        "colab": {
          "base_uri": "https://localhost:8080/",
          "height": 35
        }
      },
      "cell_type": "code",
      "source": [
        "s.split()"
      ],
      "execution_count": 0,
      "outputs": [
        {
          "output_type": "execute_result",
          "data": {
            "text/plain": [
              "['Israel', 'Rico']"
            ]
          },
          "metadata": {
            "tags": []
          },
          "execution_count": 10
        }
      ]
    },
    {
      "metadata": {
        "id": "7YdJ3bOsgsWh",
        "colab_type": "code",
        "outputId": "fe5a9164-653f-4d7f-d50c-29131b6daaac",
        "colab": {
          "base_uri": "https://localhost:8080/",
          "height": 35
        }
      },
      "cell_type": "code",
      "source": [
        "s.split()[1]"
      ],
      "execution_count": 0,
      "outputs": [
        {
          "output_type": "execute_result",
          "data": {
            "text/plain": [
              "'Rico'"
            ]
          },
          "metadata": {
            "tags": []
          },
          "execution_count": 13
        }
      ]
    },
    {
      "metadata": {
        "id": "wDE6JR3rhXNT",
        "colab_type": "code",
        "outputId": "9d606a6d-f930-48ad-8e27-e739d36f2fcd",
        "colab": {
          "base_uri": "https://localhost:8080/",
          "height": 35
        }
      },
      "cell_type": "code",
      "source": [
        "s.find('Rico')"
      ],
      "execution_count": 0,
      "outputs": [
        {
          "output_type": "execute_result",
          "data": {
            "text/plain": [
              "7"
            ]
          },
          "metadata": {
            "tags": []
          },
          "execution_count": 14
        }
      ]
    },
    {
      "metadata": {
        "id": "4MsYpYoSh8Ug",
        "colab_type": "code",
        "outputId": "ff3a2607-986f-4958-eb06-f64bc16ad31a",
        "colab": {
          "base_uri": "https://localhost:8080/",
          "height": 35
        }
      },
      "cell_type": "code",
      "source": [
        "model = 'Random forest'\n",
        "accuracy =0.85\n",
        "\n",
        "output = f'{model}: Accuracy {accuracy}'\n",
        "output"
      ],
      "execution_count": 0,
      "outputs": [
        {
          "output_type": "execute_result",
          "data": {
            "text/plain": [
              "'Random forest: Accuracy 0.85'"
            ]
          },
          "metadata": {
            "tags": []
          },
          "execution_count": 18
        }
      ]
    },
    {
      "metadata": {
        "id": "2mVbc7hqjJRc",
        "colab_type": "code",
        "outputId": "cecfc939-f0b7-4522-972a-7a76b0935754",
        "colab": {
          "base_uri": "https://localhost:8080/",
          "height": 35
        }
      },
      "cell_type": "code",
      "source": [
        "listas=list(range(10))\n",
        "listas"
      ],
      "execution_count": 0,
      "outputs": [
        {
          "output_type": "execute_result",
          "data": {
            "text/plain": [
              "[0, 1, 2, 3, 4, 5, 6, 7, 8, 9]"
            ]
          },
          "metadata": {
            "tags": []
          },
          "execution_count": 22
        }
      ]
    },
    {
      "metadata": {
        "id": "nY8EesfIji-Q",
        "colab_type": "code",
        "outputId": "ec14e969-78d5-4a7a-edae-fea130efc635",
        "colab": {
          "base_uri": "https://localhost:8080/",
          "height": 35
        }
      },
      "cell_type": "code",
      "source": [
        "d={'name':'Israel', 'age':23}\n",
        "d\n"
      ],
      "execution_count": 0,
      "outputs": [
        {
          "output_type": "execute_result",
          "data": {
            "text/plain": [
              "{'age': 23, 'name': 'Israel'}"
            ]
          },
          "metadata": {
            "tags": []
          },
          "execution_count": 23
        }
      ]
    },
    {
      "metadata": {
        "id": "1TlCkDFWj_MO",
        "colab_type": "code",
        "colab": {}
      },
      "cell_type": "code",
      "source": [
        ""
      ],
      "execution_count": 0,
      "outputs": []
    },
    {
      "metadata": {
        "id": "Ah8_M2MVl-iX",
        "colab_type": "code",
        "outputId": "70b47034-9235-43c1-ef7b-50045b64ed76",
        "colab": {
          "base_uri": "https://localhost:8080/",
          "height": 35
        }
      },
      "cell_type": "code",
      "source": [
        "edad=19\n",
        "\n",
        "if edad >18:\n",
        "  print('puedes entrar')\n",
        "else:\n",
        " print('bye, bye')\n"
      ],
      "execution_count": 0,
      "outputs": [
        {
          "output_type": "stream",
          "text": [
            "puedes entrar\n"
          ],
          "name": "stdout"
        }
      ]
    },
    {
      "metadata": {
        "id": "oZZeCrHjm2_g",
        "colab_type": "code",
        "outputId": "9fe7c242-ad6d-42ce-d25e-1744a096d0f4",
        "colab": {
          "base_uri": "https://localhost:8080/",
          "height": 197
        }
      },
      "cell_type": "code",
      "source": [
        "archivos=['files'+str(num) for num  in range(10)]\n",
        "archivos"
      ],
      "execution_count": 0,
      "outputs": [
        {
          "output_type": "execute_result",
          "data": {
            "text/plain": [
              "['files0',\n",
              " 'files1',\n",
              " 'files2',\n",
              " 'files3',\n",
              " 'files4',\n",
              " 'files5',\n",
              " 'files6',\n",
              " 'files7',\n",
              " 'files8',\n",
              " 'files9']"
            ]
          },
          "metadata": {
            "tags": []
          },
          "execution_count": 31
        }
      ]
    }
  ]
}